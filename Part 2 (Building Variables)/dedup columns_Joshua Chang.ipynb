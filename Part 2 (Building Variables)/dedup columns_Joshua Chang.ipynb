{
 "cells": [
  {
   "cell_type": "code",
   "execution_count": 1,
   "id": "fae6f46e",
   "metadata": {},
   "outputs": [],
   "source": [
    "import pandas as pd \n",
    "import numpy as np\n",
    "import datetime as dt\n",
    "import time\n",
    "start_time = dt.datetime.now()\n",
    "%matplotlib inline"
   ]
  },
  {
   "cell_type": "code",
   "execution_count": 2,
   "id": "9db017ee",
   "metadata": {},
   "outputs": [
    {
     "name": "stdout",
     "output_type": "stream",
     "text": [
      "CPU times: user 4min 31s, sys: 43.5 s, total: 5min 15s\n",
      "Wall time: 6min 6s\n"
     ]
    },
    {
     "data": {
      "text/plain": [
       "(1000000, 4052)"
      ]
     },
     "execution_count": 2,
     "metadata": {},
     "output_type": "execute_result"
    }
   ],
   "source": [
    "%%time\n",
    "vars=pd.read_csv('vars.csv')\n",
    "vars.shape"
   ]
  },
  {
   "cell_type": "code",
   "execution_count": 3,
   "id": "902faa33",
   "metadata": {},
   "outputs": [
    {
     "name": "stdout",
     "output_type": "stream",
     "text": [
      "(1000000, 4052)\n",
      "CPU times: user 41min 16s, sys: 1min 20s, total: 42min 37s\n",
      "Wall time: 2h 36min 25s\n"
     ]
    },
    {
     "data": {
      "text/plain": [
       "(1000000, 2242)"
      ]
     },
     "execution_count": 3,
     "metadata": {},
     "output_type": "execute_result"
    }
   ],
   "source": [
    "%%time\n",
    "# this cell takes about 25 minutes on my new notebook\n",
    "# it takes about 48 minutes on my old laptop\n",
    "print(vars.shape)\n",
    "vars = vars.T.drop_duplicates().T\n",
    "vars.shape"
   ]
  },
  {
   "cell_type": "code",
   "execution_count": 4,
   "id": "faa20b7e",
   "metadata": {},
   "outputs": [
    {
     "name": "stdout",
     "output_type": "stream",
     "text": [
      "CPU times: user 20min 52s, sys: 13.1 s, total: 21min 6s\n",
      "Wall time: 21min 14s\n"
     ]
    }
   ],
   "source": [
    "%%time\n",
    "vars.to_csv('vars.csv',index=False)"
   ]
  },
  {
   "cell_type": "code",
   "execution_count": 5,
   "id": "c61faa13",
   "metadata": {},
   "outputs": [
    {
     "name": "stdout",
     "output_type": "stream",
     "text": [
      "duration:  3:04:09.227558\n"
     ]
    }
   ],
   "source": [
    "print('duration: ',dt.datetime.now() - start_time)"
   ]
  },
  {
   "cell_type": "code",
   "execution_count": null,
   "id": "a4a943a5",
   "metadata": {},
   "outputs": [],
   "source": []
  }
 ],
 "metadata": {
  "kernelspec": {
   "display_name": "Python 3",
   "language": "python",
   "name": "python3"
  },
  "language_info": {
   "codemirror_mode": {
    "name": "ipython",
    "version": 3
   },
   "file_extension": ".py",
   "mimetype": "text/x-python",
   "name": "python",
   "nbconvert_exporter": "python",
   "pygments_lexer": "ipython3",
   "version": "3.8.8"
  }
 },
 "nbformat": 4,
 "nbformat_minor": 5
}
